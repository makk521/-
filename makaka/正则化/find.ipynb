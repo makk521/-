{
 "cells": [
  {
   "cell_type": "markdown",
   "metadata": {},
   "source": [
    "##### re.finditer()函数是re库中的一个函数，它可以返回一个迭代器，每次迭代都会返回一个Match对象，其中包含匹配的位置和内容。这个函数和re.findall()函数很相似，只是返回的是一个迭代器而不是一个列表。"
   ]
  },
  {
   "cell_type": "code",
   "execution_count": 2,
   "metadata": {},
   "outputs": [
    {
     "name": "stdout",
     "output_type": "stream",
     "text": [
      "位置： 7 元素： apple\n",
      "位置： 17 元素： banana\n",
      "pattern: apple|banana|orange\n",
      "mathch: <re.Match object; span=(17, 23), match='banana'>\n"
     ]
    }
   ],
   "source": [
    "'''\n",
    "Match对象是re库中的一个对象,它包含了匹配的位置和内容。Match对象有以下几个方法:\n",
    "group()：返回匹配的字符串。\n",
    "start()：返回匹配的开始位置。\n",
    "end()：返回匹配的结束位置。\n",
    "span()：返回一个元组，包含匹配的开始和结束位置。\n",
    "'''\n",
    "import re\n",
    "\n",
    "lst = ['apple', 'banana', 'orange']\n",
    "s = 'I like apple and banana.'\n",
    "\n",
    "pattern = '|'.join(lst)     \n",
    "for match in re.finditer(pattern, s):\n",
    "    print('位置：', match.start(), '元素：', match.group())     \n",
    "\n",
    "print('pattern:',pattern)\n",
    "print('mathch:',match)"
   ]
  },
  {
   "cell_type": "code",
   "execution_count": 3,
   "metadata": {},
   "outputs": [
    {
     "name": "stdout",
     "output_type": "stream",
     "text": [
      "['apple', 'banana']\n"
     ]
    }
   ],
   "source": [
    "'''\n",
    "re.findall可以返回一个列表,其中包含所有匹配的字符串,若没有则返回空列表。\n",
    "'''\n",
    "import re\n",
    "\n",
    "s = 'I like apple and banana.'\n",
    "pattern = 'apple|banana'\n",
    "\n",
    "result = re.findall(pattern, s)\n",
    "print(result)"
   ]
  }
 ],
 "metadata": {
  "kernelspec": {
   "display_name": "Python 3.11.0 64-bit",
   "language": "python",
   "name": "python3"
  },
  "language_info": {
   "codemirror_mode": {
    "name": "ipython",
    "version": 3
   },
   "file_extension": ".py",
   "mimetype": "text/x-python",
   "name": "python",
   "nbconvert_exporter": "python",
   "pygments_lexer": "ipython3",
   "version": "3.11.0"
  },
  "orig_nbformat": 4,
  "vscode": {
   "interpreter": {
    "hash": "aee8b7b246df8f9039afb4144a1f6fd8d2ca17a180786b69acc140d282b71a49"
   }
  }
 },
 "nbformat": 4,
 "nbformat_minor": 2
}
