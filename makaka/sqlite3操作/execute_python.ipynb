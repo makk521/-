{
 "cells": [
  {
   "cell_type": "markdown",
   "metadata": {},
   "source": [
    "### python 操作"
   ]
  },
  {
   "cell_type": "code",
   "execution_count": 15,
   "metadata": {},
   "outputs": [],
   "source": [
    "import sqlite3\n",
    "import os"
   ]
  },
  {
   "cell_type": "code",
   "execution_count": 20,
   "metadata": {},
   "outputs": [],
   "source": [
    "import sqlite3\n",
    "import os\n",
    "\n",
    "# 当前路径下没有则创建，并创建新的table\n",
    "if not os.path.isfile('student.db'):\n",
    "    conn = sqlite3.connect('student.db')   # 连接即创建\n",
    "    c = conn.cursor()\n",
    "    c.execute(\"CREATE TABLE student (Id INTEGER PRIMARY KEY AUTOINCREMENT,name, age )\")\n",
    "    conn.commit()\n",
    "    conn.close()\n"
   ]
  },
  {
   "cell_type": "code",
   "execution_count": 39,
   "metadata": {},
   "outputs": [],
   "source": [
    "def date_insert(name,age):\n",
    "    conn = sqlite3.connect('student.db')\n",
    "    c = conn.cursor()\n",
    "    c.execute(f\"INSERT INTO student(name,age) VALUES({name},{age})\")\n",
    "    conn.commit()\n",
    "    c.close()\n",
    "    conn.close()\n",
    "\n",
    "date_insert(\"'小黄'\",18)   # 字符串传参注意传进去的格式"
   ]
  },
  {
   "cell_type": "code",
   "execution_count": null,
   "metadata": {},
   "outputs": [],
   "source": [
    "def date_select(id):\n",
    "    conn = sqlite3.connect('student.db')\n",
    "    c = conn.cursor()\n",
    "    result = c.execute(f\"select * from student where Id = {id}\").fetchone()  # 返回为<sqlite3.Cursor at 0x10da14cc0>，需fetchone解析为tuple\n",
    "    c.close()\n",
    "    conn.close()\n",
    "    return result\n",
    "date_select(2)"
   ]
  }
 ],
 "metadata": {
  "kernelspec": {
   "display_name": "Python 3.11.0 64-bit",
   "language": "python",
   "name": "python3"
  },
  "language_info": {
   "codemirror_mode": {
    "name": "ipython",
    "version": 3
   },
   "file_extension": ".py",
   "mimetype": "text/x-python",
   "name": "python",
   "nbconvert_exporter": "python",
   "pygments_lexer": "ipython3",
   "version": "3.11.0"
  },
  "orig_nbformat": 4,
  "vscode": {
   "interpreter": {
    "hash": "aee8b7b246df8f9039afb4144a1f6fd8d2ca17a180786b69acc140d282b71a49"
   }
  }
 },
 "nbformat": 4,
 "nbformat_minor": 2
}
